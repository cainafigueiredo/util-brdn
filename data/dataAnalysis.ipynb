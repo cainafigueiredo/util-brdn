{
 "cells": [
  {
   "cell_type": "code",
   "execution_count": 1,
   "metadata": {},
   "outputs": [],
   "source": [
    "SRLEARN_PATH = \"../../srlearn\"\n",
    "PROJECT_PATH = \"..\"\n",
    "import sys\n",
    "sys.path.append(SRLEARN_PATH)\n",
    "sys.path.append(PROJECT_PATH)\n",
    "\n",
    "from srlearn.database import Database\n",
    "\n",
    "from utils.experiment import loadDatabase, getLogger\n",
    "\n",
    "from pprint import pprint"
   ]
  },
  {
   "cell_type": "code",
   "execution_count": 2,
   "metadata": {},
   "outputs": [],
   "source": [
    "DATA_PATH = \"./preprocessed\""
   ]
  },
  {
   "cell_type": "code",
   "execution_count": 3,
   "metadata": {},
   "outputs": [],
   "source": [
    "logger = getLogger(\"Data Analysis\")"
   ]
  },
  {
   "cell_type": "code",
   "execution_count": 6,
   "metadata": {},
   "outputs": [],
   "source": [
    "def getStatistics(database: Database):\n",
    "    statistics = database.getStatistics()\n",
    "\n",
    "    print(\"Database Statistics\")\n",
    "    print(\"===================\\n\")\n",
    "    print(\"Number of Constants:\", statistics[\"totalConstants\"])\n",
    "    print(\"Number of Types:\", statistics[\"totalTermTypes\"])\n",
    "    print(\"Number of Predicates:\", statistics[\"totalPredicates\"])\n",
    "    print(\"Number of Positive Examples:\", statistics[\"totalPositiveExamples\"])\n",
    "    print(\"Number of Facts:\", statistics[\"totalGroundLiterals\"])\n",
    "    print(\"Target Relation:\", statistics[\"targetRelation\"])\n",
    "    print()\n",
    "    print(\"Database Schema\")\n",
    "    print(\"===============\\n\")\n",
    "    print(\n",
    "        \"\\n\".join(\n",
    "            [f\"{pred}({','.join(terms)})\" for pred, terms in statistics[\"schema\"].items()]\n",
    "        )\n",
    "    )"
   ]
  },
  {
   "cell_type": "markdown",
   "metadata": {},
   "source": [
    "# **Data Statistics**"
   ]
  },
  {
   "cell_type": "markdown",
   "metadata": {},
   "source": [
    "| Dataset | # Folds | # Constants | # Types | # Predicates | # Facts | # Pos Examples | Target Relation |\n",
    "| - | - | - | - | - | - | - | - |\n",
    "| IMDB | 5 | 297 | 3 | 6 | 696 | 382 | workedunder |\n",
    "| Cora | 5 | 2457 | 5 | 10 | 38336 | 2640 | samevenue |\n",
    "| UW-CSE | 5 | 914 | 9 | 14 | 2274 | 113 | advisedby |\n",
    "| Twitter | 2 | 273 | 3 | 3 | 2312 | 221 | accounttype |\n",
    "| Yeast | 4 | 2470 | 7 | 7 | 15015 | 369 | proteinclass |\n",
    "| NELL Finances | 3 | 3340 | 5 | 10 | 4579 | 762 | companyeconomicsector |\n",
    "| NELL Sports | 3 | 4538 | 4 | 8 | 9236 | 392 | teamplayssport |"
   ]
  },
  {
   "cell_type": "markdown",
   "metadata": {},
   "source": [
    "## **IMDB**"
   ]
  },
  {
   "cell_type": "code",
   "execution_count": 8,
   "metadata": {},
   "outputs": [
    {
     "name": "stderr",
     "output_type": "stream",
     "text": [
      "/mnt/d/Projetos/srlTransferLearning/myProject/transferLearning/data/../utils/experiment.py:56: DeprecationWarning: The 'warn' method is deprecated, use 'warning' instead\n",
      "  logger.warn(\"All available database folds will be loaded. Set `folds` if it is desired to load only a few fold.\")\n",
      "2024-05-14 19:15:37,498 - Data Analysis - WARNING - All available database folds will be loaded. Set `folds` if it is desired to load only a few fold.\n"
     ]
    },
    {
     "name": "stderr",
     "output_type": "stream",
     "text": [
      "2024-05-14 19:15:37,593 - Data Analysis - DEBUG - 1/5 folds loaded with success.\n",
      "2024-05-14 19:15:37,677 - Data Analysis - DEBUG - 2/5 folds loaded with success.\n",
      "2024-05-14 19:15:37,772 - Data Analysis - DEBUG - 3/5 folds loaded with success.\n",
      "2024-05-14 19:15:37,871 - Data Analysis - DEBUG - 4/5 folds loaded with success.\n",
      "2024-05-14 19:15:37,938 - Data Analysis - DEBUG - 5/5 folds loaded with success.\n",
      "/mnt/d/Projetos/srlTransferLearning/myProject/transferLearning/data/../utils/experiment.py:94: DeprecationWarning: The 'warn' method is deprecated, use 'warning' instead\n",
      "  logger.warn(f\"No target predicate was given. It will be set as `{defaultTargetPredicate}` by default. Set `targetPredicate` if it is desired to set another relation as the target relation.\")\n",
      "2024-05-14 19:15:37,947 - Data Analysis - WARNING - No target predicate was given. It will be set as `workedunder` by default. Set `targetPredicate` if it is desired to set another relation as the target relation.\n"
     ]
    }
   ],
   "source": [
    "imdb = loadDatabase(\n",
    "    path = f\"{DATA_PATH}/imdb\",\n",
    "    folds = None,\n",
    "    useRecursion = False,\n",
    "    targetPredicate = None,\n",
    "    resetTargetPredicate = False, \n",
    "    negPosRatio = 1,\n",
    "    maxFailedNegSamplingRetries = 50,\n",
    "    logger = logger\n",
    ")"
   ]
  },
  {
   "cell_type": "code",
   "execution_count": 9,
   "metadata": {},
   "outputs": [
    {
     "name": "stdout",
     "output_type": "stream",
     "text": [
      "Database: IMDB\n",
      "\n",
      "Database Statistics\n",
      "===================\n",
      "\n",
      "Number of Constants: 297\n",
      "Number of Types: 3\n",
      "Number of Predicates: 6\n",
      "Number of Positive Examples: 382\n",
      "Number of Facts: 696\n",
      "Target Relation: workedunder\n",
      "\n",
      "Database Schema\n",
      "===============\n",
      "\n",
      "workedunder(person,person)\n",
      "female(person)\n",
      "actor(person)\n",
      "director(person)\n",
      "movie(movie,person)\n",
      "genre(person,genre)\n"
     ]
    }
   ],
   "source": [
    "print(\"Database: IMDB\\n\")\n",
    "getStatistics(imdb)"
   ]
  },
  {
   "cell_type": "markdown",
   "metadata": {},
   "source": [
    "## **Cora**"
   ]
  },
  {
   "cell_type": "code",
   "execution_count": 22,
   "metadata": {},
   "outputs": [
    {
     "name": "stderr",
     "output_type": "stream",
     "text": [
      "2024-05-14 19:18:56,101 - Data Analysis - WARNING - All available database folds will be loaded. Set `folds` if it is desired to load only a few fold.\n",
      "2024-05-14 19:18:56,207 - Data Analysis - DEBUG - 1/5 folds loaded with success.\n",
      "2024-05-14 19:18:56,316 - Data Analysis - DEBUG - 2/5 folds loaded with success.\n",
      "2024-05-14 19:18:56,434 - Data Analysis - DEBUG - 3/5 folds loaded with success.\n",
      "2024-05-14 19:18:56,584 - Data Analysis - DEBUG - 4/5 folds loaded with success.\n",
      "2024-05-14 19:18:56,753 - Data Analysis - DEBUG - 5/5 folds loaded with success.\n",
      "2024-05-14 19:18:56,797 - Data Analysis - WARNING - No target predicate was given. It will be set as `samevenue` by default. Set `targetPredicate` if it is desired to set another relation as the target relation.\n"
     ]
    }
   ],
   "source": [
    "cora = loadDatabase(\n",
    "    path = f\"{DATA_PATH}/cora\",\n",
    "    folds = None,\n",
    "    useRecursion = False,\n",
    "    targetPredicate = None,\n",
    "    resetTargetPredicate = False, \n",
    "    negPosRatio = 1,\n",
    "    maxFailedNegSamplingRetries = 50,\n",
    "    logger = logger\n",
    ")"
   ]
  },
  {
   "cell_type": "code",
   "execution_count": 11,
   "metadata": {},
   "outputs": [
    {
     "name": "stdout",
     "output_type": "stream",
     "text": [
      "Database: Cora\n",
      "\n",
      "Database Statistics\n",
      "===================\n",
      "\n",
      "Number of Constants: 2457\n",
      "Number of Types: 5\n",
      "Number of Predicates: 10\n",
      "Number of Positive Examples: 2640\n",
      "Number of Facts: 38336\n",
      "Target Relation: samevenue\n",
      "\n",
      "Database Schema\n",
      "===============\n",
      "\n",
      "sameauthor(author,author)\n",
      "samebib(class,class)\n",
      "sametitle(title,title)\n",
      "samevenue(venue,venue)\n",
      "author(class,author)\n",
      "title(class,title)\n",
      "venue(class,venue)\n",
      "haswordauthor(author,word)\n",
      "haswordtitle(title,word)\n",
      "haswordvenue(venue,word)\n"
     ]
    }
   ],
   "source": [
    "print(\"Database: Cora\\n\")\n",
    "getStatistics(cora)"
   ]
  },
  {
   "cell_type": "markdown",
   "metadata": {},
   "source": [
    "## **UW-CSE**"
   ]
  },
  {
   "cell_type": "code",
   "execution_count": 12,
   "metadata": {},
   "outputs": [
    {
     "name": "stderr",
     "output_type": "stream",
     "text": [
      "2024-05-14 19:17:16,178 - Data Analysis - WARNING - All available database folds will be loaded. Set `folds` if it is desired to load only a few fold.\n",
      "2024-05-14 19:17:16,328 - Data Analysis - DEBUG - 1/5 folds loaded with success.\n",
      "2024-05-14 19:17:16,461 - Data Analysis - DEBUG - 2/5 folds loaded with success.\n",
      "2024-05-14 19:17:16,585 - Data Analysis - DEBUG - 3/5 folds loaded with success.\n",
      "2024-05-14 19:17:16,729 - Data Analysis - DEBUG - 4/5 folds loaded with success.\n",
      "2024-05-14 19:17:16,865 - Data Analysis - DEBUG - 5/5 folds loaded with success.\n",
      "2024-05-14 19:17:16,873 - Data Analysis - WARNING - No target predicate was given. It will be set as `advisedby` by default. Set `targetPredicate` if it is desired to set another relation as the target relation.\n"
     ]
    }
   ],
   "source": [
    "uwcse = loadDatabase(\n",
    "    path = f\"{DATA_PATH}/uwcse\",\n",
    "    folds = None,\n",
    "    useRecursion = False,\n",
    "    targetPredicate = None,\n",
    "    resetTargetPredicate = False, \n",
    "    negPosRatio = 1,\n",
    "    maxFailedNegSamplingRetries = 50,\n",
    "    logger = logger\n",
    ")"
   ]
  },
  {
   "cell_type": "code",
   "execution_count": 13,
   "metadata": {},
   "outputs": [
    {
     "name": "stdout",
     "output_type": "stream",
     "text": [
      "Database: UW-CSE\n",
      "\n",
      "Database Statistics\n",
      "===================\n",
      "\n",
      "Number of Constants: 914\n",
      "Number of Types: 9\n",
      "Number of Predicates: 14\n",
      "Number of Positive Examples: 113\n",
      "Number of Facts: 2274\n",
      "Target Relation: advisedby\n",
      "\n",
      "Database Schema\n",
      "===============\n",
      "\n",
      "professor(person)\n",
      "student(person)\n",
      "advisedby(person,person)\n",
      "tempadvisedby(person,person)\n",
      "ta(course,person,quarter)\n",
      "hasposition(person,faculty)\n",
      "publication(title,person)\n",
      "inphase(person,prequals)\n",
      "courselevel(course,level)\n",
      "yearsinprogram(person,year)\n",
      "projectmember(project,person)\n",
      "sameproject(project,project)\n",
      "samecourse(course,course)\n",
      "sameperson(person,person)\n"
     ]
    }
   ],
   "source": [
    "print(\"Database: UW-CSE\\n\")\n",
    "getStatistics(uwcse)"
   ]
  },
  {
   "cell_type": "markdown",
   "metadata": {},
   "source": [
    "## **Twitter**"
   ]
  },
  {
   "cell_type": "code",
   "execution_count": 14,
   "metadata": {},
   "outputs": [
    {
     "name": "stderr",
     "output_type": "stream",
     "text": [
      "2024-05-14 19:17:27,620 - Data Analysis - WARNING - All available database folds will be loaded. Set `folds` if it is desired to load only a few fold.\n",
      "2024-05-14 19:17:27,756 - Data Analysis - DEBUG - 1/2 folds loaded with success.\n",
      "2024-05-14 19:17:27,855 - Data Analysis - DEBUG - 2/2 folds loaded with success.\n",
      "2024-05-14 19:17:27,859 - Data Analysis - WARNING - No target predicate was given. It will be set as `accounttype` by default. Set `targetPredicate` if it is desired to set another relation as the target relation.\n"
     ]
    }
   ],
   "source": [
    "twitter = loadDatabase(\n",
    "    path = f\"{DATA_PATH}/twitter\",\n",
    "    folds = None,\n",
    "    useRecursion = False,\n",
    "    targetPredicate = None,\n",
    "    resetTargetPredicate = False, \n",
    "    negPosRatio = 1,\n",
    "    maxFailedNegSamplingRetries = 50,\n",
    "    logger = logger\n",
    ")"
   ]
  },
  {
   "cell_type": "code",
   "execution_count": 15,
   "metadata": {},
   "outputs": [
    {
     "name": "stdout",
     "output_type": "stream",
     "text": [
      "Database: Twitter\n",
      "\n",
      "Database Statistics\n",
      "===================\n",
      "\n",
      "Number of Constants: 273\n",
      "Number of Types: 3\n",
      "Number of Predicates: 3\n",
      "Number of Positive Examples: 221\n",
      "Number of Facts: 2312\n",
      "Target Relation: accounttype\n",
      "\n",
      "Database Schema\n",
      "===============\n",
      "\n",
      "accounttype(account,type)\n",
      "tweets(account,word)\n",
      "follows(account,account)\n"
     ]
    }
   ],
   "source": [
    "print(\"Database: Twitter\\n\")\n",
    "getStatistics(twitter)"
   ]
  },
  {
   "cell_type": "markdown",
   "metadata": {},
   "source": [
    "## **Yeast**"
   ]
  },
  {
   "cell_type": "code",
   "execution_count": 16,
   "metadata": {},
   "outputs": [
    {
     "name": "stderr",
     "output_type": "stream",
     "text": [
      "2024-05-14 19:17:37,545 - Data Analysis - WARNING - All available database folds will be loaded. Set `folds` if it is desired to load only a few fold.\n",
      "2024-05-14 19:17:37,708 - Data Analysis - DEBUG - 1/4 folds loaded with success.\n",
      "2024-05-14 19:17:37,828 - Data Analysis - DEBUG - 2/4 folds loaded with success.\n",
      "2024-05-14 19:17:37,958 - Data Analysis - DEBUG - 3/4 folds loaded with success.\n",
      "2024-05-14 19:17:38,093 - Data Analysis - DEBUG - 4/4 folds loaded with success.\n",
      "2024-05-14 19:17:38,098 - Data Analysis - WARNING - No target predicate was given. It will be set as `proteinclass` by default. Set `targetPredicate` if it is desired to set another relation as the target relation.\n"
     ]
    }
   ],
   "source": [
    "yeast = loadDatabase(\n",
    "    path = f\"{DATA_PATH}/yeast\",\n",
    "    folds = None,\n",
    "    useRecursion = False,\n",
    "    targetPredicate = None,\n",
    "    resetTargetPredicate = False, \n",
    "    negPosRatio = 1,\n",
    "    maxFailedNegSamplingRetries = 50,\n",
    "    logger = logger\n",
    ")"
   ]
  },
  {
   "cell_type": "code",
   "execution_count": 17,
   "metadata": {},
   "outputs": [
    {
     "name": "stdout",
     "output_type": "stream",
     "text": [
      "Database: Yeast\n",
      "\n",
      "Database Statistics\n",
      "===================\n",
      "\n",
      "Number of Constants: 2470\n",
      "Number of Types: 7\n",
      "Number of Predicates: 7\n",
      "Number of Positive Examples: 369\n",
      "Number of Facts: 15015\n",
      "Target Relation: proteinclass\n",
      "\n",
      "Database Schema\n",
      "===============\n",
      "\n",
      "location(protein,loc)\n",
      "interaction(protein,protein)\n",
      "proteinclass(protein,class)\n",
      "enzyme(protein,enz)\n",
      "function(protein,fun)\n",
      "complex(protein,com)\n",
      "phenotype(protein,phe)\n"
     ]
    }
   ],
   "source": [
    "print(\"Database: Yeast\\n\")\n",
    "getStatistics(yeast)"
   ]
  },
  {
   "cell_type": "markdown",
   "metadata": {},
   "source": [
    "## **NELL Finances**"
   ]
  },
  {
   "cell_type": "code",
   "execution_count": 18,
   "metadata": {},
   "outputs": [
    {
     "name": "stderr",
     "output_type": "stream",
     "text": [
      "2024-05-14 19:17:51,395 - Data Analysis - WARNING - All available database folds will be loaded. Set `folds` if it is desired to load only a few fold.\n",
      "2024-05-14 19:17:51,490 - Data Analysis - DEBUG - 1/3 folds loaded with success.\n",
      "2024-05-14 19:17:51,583 - Data Analysis - DEBUG - 2/3 folds loaded with success.\n",
      "2024-05-14 19:17:51,679 - Data Analysis - DEBUG - 3/3 folds loaded with success.\n",
      "2024-05-14 19:17:51,701 - Data Analysis - WARNING - No target predicate was given. It will be set as `companyeconomicsector` by default. Set `targetPredicate` if it is desired to set another relation as the target relation.\n"
     ]
    }
   ],
   "source": [
    "nellFinances = loadDatabase(\n",
    "    path = f\"{DATA_PATH}/nell_finances\",\n",
    "    folds = None,\n",
    "    useRecursion = False,\n",
    "    targetPredicate = None,\n",
    "    resetTargetPredicate = False, \n",
    "    negPosRatio = 1,\n",
    "    maxFailedNegSamplingRetries = 50,\n",
    "    logger = logger\n",
    ")"
   ]
  },
  {
   "cell_type": "code",
   "execution_count": 19,
   "metadata": {},
   "outputs": [
    {
     "name": "stdout",
     "output_type": "stream",
     "text": [
      "Database: NELL Finances\n",
      "\n",
      "Database Statistics\n",
      "===================\n",
      "\n",
      "Number of Constants: 3340\n",
      "Number of Types: 5\n",
      "Number of Predicates: 10\n",
      "Number of Positive Examples: 762\n",
      "Number of Facts: 4579\n",
      "Target Relation: companyeconomicsector\n",
      "\n",
      "Database Schema\n",
      "===============\n",
      "\n",
      "countryhascompanyoffice(country,company)\n",
      "companyeconomicsector(company,sector)\n",
      "economicsectorcompany(sector,company)\n",
      "companyceo(company,person)\n",
      "companyalsoknownas(company,company)\n",
      "cityhascompanyoffice(city,company)\n",
      "acquired(company,company)\n",
      "bankbankincountry(person,country)\n",
      "bankboughtbank(company,company)\n",
      "bankchiefexecutiveceo(company,person)\n"
     ]
    }
   ],
   "source": [
    "print(\"Database: NELL Finances\\n\")\n",
    "getStatistics(nellFinances)"
   ]
  },
  {
   "cell_type": "markdown",
   "metadata": {},
   "source": [
    "## **NELL Sports**"
   ]
  },
  {
   "cell_type": "code",
   "execution_count": 20,
   "metadata": {},
   "outputs": [
    {
     "name": "stderr",
     "output_type": "stream",
     "text": [
      "2024-05-14 19:18:00,582 - Data Analysis - WARNING - All available database folds will be loaded. Set `folds` if it is desired to load only a few fold.\n",
      "2024-05-14 19:18:00,759 - Data Analysis - DEBUG - 1/3 folds loaded with success.\n",
      "2024-05-14 19:18:00,940 - Data Analysis - DEBUG - 2/3 folds loaded with success.\n",
      "2024-05-14 19:18:01,123 - Data Analysis - DEBUG - 3/3 folds loaded with success.\n",
      "2024-05-14 19:18:01,129 - Data Analysis - WARNING - No target predicate was given. It will be set as `teamplayssport` by default. Set `targetPredicate` if it is desired to set another relation as the target relation.\n"
     ]
    }
   ],
   "source": [
    "nellSports = loadDatabase(\n",
    "    path = f\"{DATA_PATH}/nell_sports\",\n",
    "    folds = None,\n",
    "    useRecursion = False,\n",
    "    targetPredicate = None,\n",
    "    resetTargetPredicate = False, \n",
    "    negPosRatio = 1,\n",
    "    maxFailedNegSamplingRetries = 50,\n",
    "    logger = logger\n",
    ")"
   ]
  },
  {
   "cell_type": "code",
   "execution_count": 21,
   "metadata": {},
   "outputs": [
    {
     "name": "stdout",
     "output_type": "stream",
     "text": [
      "Database: NELL Sports\n",
      "\n",
      "Database Statistics\n",
      "===================\n",
      "\n",
      "Number of Constants: 4538\n",
      "Number of Types: 4\n",
      "Number of Predicates: 8\n",
      "Number of Positive Examples: 392\n",
      "Number of Facts: 9236\n",
      "Target Relation: teamplayssport\n",
      "\n",
      "Database Schema\n",
      "===============\n",
      "\n",
      "athleteledsportsteam(athlete,sportsteam)\n",
      "athleteplaysforteam(athlete,sportsteam)\n",
      "athleteplaysinleague(athlete,sportsleague)\n",
      "athleteplayssport(athlete,sport)\n",
      "teamalsoknownas(sportsteam,sportsteam)\n",
      "teamplaysagainstteam(sportsteam,sportsteam)\n",
      "teamplaysinleague(sportsteam,sportsleague)\n",
      "teamplayssport(sportsteam,sport)\n"
     ]
    }
   ],
   "source": [
    "print(\"Database: NELL Sports\\n\")\n",
    "getStatistics(nellSports)"
   ]
  },
  {
   "cell_type": "code",
   "execution_count": null,
   "metadata": {},
   "outputs": [],
   "source": []
  }
 ],
 "metadata": {
  "kernelspec": {
   "display_name": "Python 3",
   "language": "python",
   "name": "python3"
  },
  "language_info": {
   "codemirror_mode": {
    "name": "ipython",
    "version": 3
   },
   "file_extension": ".py",
   "mimetype": "text/x-python",
   "name": "python",
   "nbconvert_exporter": "python",
   "pygments_lexer": "ipython3",
   "version": "3.8.10"
  }
 },
 "nbformat": 4,
 "nbformat_minor": 2
}
